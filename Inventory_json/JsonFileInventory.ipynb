{
 "cells": [
  {
   "cell_type": "code",
   "execution_count": 4,
   "id": "f143349a-8385-4bae-b460-23659bb185c6",
   "metadata": {},
   "outputs": [],
   "source": [
    "import json\n",
    "record={1001: {\"name\": \"5 Star\"          ,\"Price\": 10    ,\"Qn\":300},\n",
    "         1002:{\"name\": \"KitKat\"          ,\"Price\":  25   ,\"Qn\":250},\n",
    "         1003:{\"name\": \"DairyMilk\"       ,\"Price\": 20    ,\"Qn\":200},\n",
    "         1004:{\"name\": \"Perk\"            ,\"Price\": 5     ,\"Qn\":400},\n",
    "         1005:{\"name\": \"Chocolate Cake\"  ,\"Price\": 550   ,\"Qn\":40}}"
   ]
  },
  {
   "cell_type": "code",
   "execution_count": 1,
   "id": "56a689d0-d76e-4010-ae6c-6332822dfcd3",
   "metadata": {},
   "outputs": [
    {
     "name": "stdout",
     "output_type": "stream",
     "text": [
      "-------------Menu----------------\n",
      "\n",
      "1001 : 5 Star \t| 10 \t| 239\n",
      "1002 : KitKat \t| 25 \t| 0\n",
      "1003 : DairyMilk \t| 20 \t| 0\n",
      "1004 : Perk \t| 5 \t| 385\n",
      "1005 : Chocolate Cake \t| 550 \t| 0\n",
      "---------------------------------\n",
      "\n"
     ]
    },
    {
     "name": "stdin",
     "output_type": "stream",
     "text": [
      "Enter your name        : ramesh\n",
      "Enter your email id    : ramesh@gmail.com\n",
      "Enter your phone no    : 458965231\n",
      "Enter the product Id   : 1001\n",
      "Enter Quantity         : 10\n"
     ]
    },
    {
     "name": "stdout",
     "output_type": "stream",
     "text": [
      "---------------------------------\n",
      "                Bill                \n",
      "\n",
      "Name                    : 5 Star\n",
      "Price                   : 10 Rs\n",
      "Quantity                : 10 pieces\n",
      "---------------------------------\n",
      "Billing Ammount         : 100 Rs\n",
      "Discount 10%            : 10.0 Rs\n",
      "---------------------------------\n",
      "Finally Billing Amount  : 90.0 Rs\n",
      "---------------------------------\n",
      "\n",
      "\n",
      "\n",
      "-------------------------------\n",
      "Thanks for your order, Inventory updated\n",
      "The programme end!\n"
     ]
    }
   ],
   "source": [
    "# import library\n",
    "import time\n",
    "import json\n",
    "\n",
    "# loading the inventory records from JSON to string\n",
    "fd=open(\"records.json\",\"r\")\n",
    "js=fd.read()\n",
    "fd.close()\n",
    "\n",
    "# covert string records to JSON\n",
    "record=json.loads(js)\n",
    "\n",
    "\"\"\"\n",
    "record={1001: {\"name\": \"5 Star\"          ,\"Price\": 10    ,\"Qn\":300},\n",
    "         1002:{\"name\": \"KitKat\"          ,\"Price\":  25   ,\"Qn\":250},\n",
    "         1003:{\"name\": \"DairyMilk\"       ,\"Price\": 20    ,\"Qn\":200},\n",
    "         1004:{\"name\": \"Perk\"            ,\"Price\": 5     ,\"Qn\":400},\n",
    "         1005:{\"name\": \"Chocolate Cake\"  ,\"Price\": 550   ,\"Qn\":40}}       \n",
    "\n",
    "\"\"\"\n",
    "# Display Menu\n",
    "print(\"-------------Menu----------------\\n\")\n",
    "\n",
    "for key in record.keys():\n",
    "    print(key,\":\",record[key][\"name\"],\"\\t|\", record[key][\"Price\"], \"\\t|\",record[key][\"Qn\"])\n",
    "\n",
    "print(\"---------------------------------\\n\")\n",
    "\n",
    "# Taking input from the user about purchasing details\n",
    "ui_name  =str(input(\"Enter your name        :\"))\n",
    "ui_mail  =str(input(\"Enter your email id    :\"))\n",
    "ui_phone =str(input(\"Enter your phone no    :\"))\n",
    "ui_pr    =str(input(\"Enter the product Id   :\"))\n",
    "ui_qn    =int(input(\"Enter Quantity         :\"))\n",
    "\n",
    "# if we are having equal quantity and more quantity then user wants\n",
    "if (record[ui_pr][\"Qn\"] >=ui_qn):\n",
    "\n",
    "    # diplay purchase details\n",
    "    print(\"---------------------------------\")\n",
    "    print(\"                Bill                \\n\")\n",
    "    print(\"Name                    :\",record[ui_pr][\"name\"])\n",
    "    print(\"Price                   :\",record[ui_pr][\"Price\"],\"Rs\")\n",
    "    print(\"Quantity                :\",ui_qn,)\n",
    "    print(\"---------------------------------\")\n",
    "    print(\"Billing Ammount         :\",record[ui_pr][\"Price\"]*ui_qn,\"Rs\")\n",
    "    print(\"Discount 10%            :\",(record[ui_pr][\"Price\"]*ui_qn)*(10/100),\"Rs\")\n",
    "    print(\"---------------------------------\")\n",
    "    print(\"Finally Billing Amount  :\",(record[ui_pr][\"Price\"]*ui_qn)-(record[ui_pr][\"Price\"]*ui_qn)*(10/100),\"Rs\")\n",
    "    print(\"---------------------------------\")\n",
    "    \n",
    "    # generate sales structure\n",
    "    sale=ui_name+\",\"+ui_mail+\",\"+ui_phone+\",\"+ui_pr+\",\"+record[ui_pr][\"name\"]+\",\"+str(ui_qn)+\",\"+str(record[ui_pr][\"Price\"])+\",\"+str(ui_qn*record[ui_pr][\"Price\"])+\",\"+time.ctime()+\"\\n\"\n",
    "\n",
    "    # updating records dictionary\n",
    "    record[ui_pr][\"Qn\"]=record[ui_pr][\"Qn\"]-ui_qn\n",
    "\n",
    "    \n",
    "# if we are not having enough quantity\n",
    "else:\n",
    "\n",
    "    # display info about the quantity\n",
    "    print(\"---------------------------------\\n\")\n",
    "    print(\"We are not having enough quantity in our inventory.\")\n",
    "    print(\"we are only having\",record[ui_pr][\"Qn\"],\"quantity.\")\n",
    "    print(\"Would you like to purchase it.\")\n",
    "\n",
    "    # if user wants to whole quantity\n",
    "    ch=str(input(\"Press Y/N\"))\n",
    "\n",
    "    if (ch==\"Y\" or ch==\"y\"):\n",
    "\n",
    "        # diplay purchase details\n",
    "        print(\"---------------------------------\")\n",
    "        print(\"                  Bill                \\n\")\n",
    "        print(\"Name                     :\",record[ui_pr][\"name\"])\n",
    "        print(\"Price                    :\",record[ui_pr][\"Price\"],\"Rs\")\n",
    "        print(\"Quantity                 :\",ui_qn,)\n",
    "        print(\"---------------------------------\")\n",
    "        print(\"Billing Ammount          :\",record[ui_pr][\"Price\"]*record[ui_pr][\"Qn\"],\"Rs\")\n",
    "        print(\"Discount 10%             :\",(record[ui_pr][\"Price\"]*record[ui_pr][\"Qn\"])*(10/100),\"Rs\")\n",
    "        print(\"---------------------------------\")\n",
    "        print(\"Finally Billing Amount   :\",(record[ui_pr][\"Price\"]*record[ui_pr][\"Qn\"])-(record[ui_pr][\"Price\"]*record[ui_pr][\"Qn\"])*(10/100),\"Rs\")\n",
    "        print(\"---------------------------------\")\n",
    "\n",
    "        # generate sales structure\n",
    "        sale=ui_name+\",\"+ui_mail+\",\"+ui_phone+\",\"+ui_pr+\",\"+record[ui_pr][\"name\"]+\",\"+str(record[ui_pr][\"Qn\"])+\",\"+str(record[ui_pr][\"Price\"])+\",\"+str(record[ui_pr][\"Qn\"]*record[ui_pr][\"Price\"])+\",\"+time.ctime()+\"\\n\"\n",
    "        \n",
    "        # updating records dictionary\n",
    "        record[ui_pr][\"Qn\"]=0\n",
    "\n",
    "    # if user passed anithing other then Y/y\n",
    "    else:\n",
    "        print(\" Thank You! \")\n",
    "        \n",
    "# covert dictionary to string        \n",
    "js=json.dumps(record)\n",
    "\n",
    "# saving recordin JSON file \n",
    "fd=open(\"records.json\",\"w\")\n",
    "fd.write(js)\n",
    "fd.close()\n",
    "\n",
    "# saving Record in sales file\n",
    "fd=open(\"sales.txt\",\"a\")\n",
    "fd.write(sale)\n",
    "fd.close()\n",
    "\n",
    "\n",
    "\n",
    "print(\"\\n\\n\")\n",
    "print(\"-------------------------------\")\n",
    "print(\"Thanks for your order, Inventory updated\")\n",
    "print(\"The programme end!\")\n",
    "    "
   ]
  },
  {
   "cell_type": "code",
   "execution_count": 3,
   "id": "79f21cc6-8ab6-4480-9ece-8b7ca3249a00",
   "metadata": {},
   "outputs": [
    {
     "data": {
      "text/plain": [
       "{'1001': {'name': '5 Star', 'Price': 10, 'Qn': 249},\n",
       " '1002': {'name': 'KitKat', 'Price': 25, 'Qn': 193},\n",
       " '1003': {'name': 'DairyMilk', 'Price': 20, 'Qn': 129},\n",
       " '1004': {'name': 'Perk', 'Price': 5, 'Qn': 385},\n",
       " '1005': {'name': 'Chocolate Cake', 'Price': 550, 'Qn': 0}}"
      ]
     },
     "execution_count": 3,
     "metadata": {},
     "output_type": "execute_result"
    }
   ],
   "source": [
    "record"
   ]
  },
  {
   "cell_type": "code",
   "execution_count": 13,
   "id": "9b60b2b1-9645-4f2e-8c98-2e8061091953",
   "metadata": {},
   "outputs": [
    {
     "name": "stdout",
     "output_type": "stream",
     "text": [
      "1,dilkash,abc@gmail.com,5444644816,1001,5 Star,249,10,2490,Fri Jun  7 17:03:20 2024\n"
     ]
    }
   ],
   "source": [
    "sale=\"1\"+\",\"+ui_name+\",\"+ui_mail+\",\"+ui_phone+\",\"+ui_pr+\",\"+record[ui_pr][\"name\"]+\",\"+str(record[ui_pr][\"Qn\"])+\",\"+str(record[ui_pr][\"Price\"])+\",\"+str(record[ui_pr][\"Qn\"]*record[ui_pr][\"Price\"])+\",\"+time.ctime()\n",
    "print(sale)\n"
   ]
  },
  {
   "cell_type": "code",
   "execution_count": 8,
   "id": "d9095c44-0cb4-40d2-ad11-be18815a1f73",
   "metadata": {},
   "outputs": [
    {
     "data": {
      "text/plain": [
       "'Fri Jun  7 16:57:58 2024'"
      ]
     },
     "execution_count": 8,
     "metadata": {},
     "output_type": "execute_result"
    }
   ],
   "source": [
    "import time\n",
    "time.ctime()"
   ]
  },
  {
   "cell_type": "code",
   "execution_count": 16,
   "id": "dc6b4276-a69a-452d-8e1e-939c95caec09",
   "metadata": {},
   "outputs": [
    {
     "data": {
      "text/plain": [
       "'1,dilkash,abcd@gmail.com,85496321,1003,DairyMilk,13,20,260,Fri Jun  7 17:09:14 2024'"
      ]
     },
     "execution_count": 16,
     "metadata": {},
     "output_type": "execute_result"
    }
   ],
   "source": [
    "sale"
   ]
  }
 ],
 "metadata": {
  "kernelspec": {
   "display_name": "Python 3 (ipykernel)",
   "language": "python",
   "name": "python3"
  },
  "language_info": {
   "codemirror_mode": {
    "name": "ipython",
    "version": 3
   },
   "file_extension": ".py",
   "mimetype": "text/x-python",
   "name": "python",
   "nbconvert_exporter": "python",
   "pygments_lexer": "ipython3",
   "version": "3.11.7"
  }
 },
 "nbformat": 4,
 "nbformat_minor": 5
}
